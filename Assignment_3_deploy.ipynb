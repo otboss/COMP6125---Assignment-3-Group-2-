{
  "cells": [
    {
      "attachments": {},
      "cell_type": "markdown",
      "metadata": {
        "id": "jTEzoMx6CasV"
      },
      "source": []
    },
    {
      "attachments": {},
      "cell_type": "markdown",
      "metadata": {},
      "source": [
        "#JMD $100 Dollar Detection (New vs Old)"
      ]
    },
    {
      "attachments": {},
      "cell_type": "markdown",
      "metadata": {},
      "source": [
        "##Show me the money"
      ]
    },
    {
      "cell_type": "code",
      "execution_count": 39,
      "metadata": {
        "colab": {
          "base_uri": "https://localhost:8080/"
        },
        "id": "1xJZ5glPPCRz",
        "outputId": "cd59dbe6-599b-4f2e-ca75-e6b19d5d337c"
      },
      "outputs": [],
      "source": [
        "# 1. INSTALLING DEPENDENCIES\n",
        "!pip install -r requirements.txt --quiet --disable-pip-version-check\n",
        "\n",
        "#####################################################################\n",
        "# FOLLOW THE REMAINING STEPS INSIDE THE README FILE TO COMPLETE SETUP\n",
        "#####################################################################"
      ]
    },
    {
      "cell_type": "code",
      "execution_count": 43,
      "metadata": {},
      "outputs": [
        {
          "data": {
            "application/vnd.jupyter.widget-view+json": {
              "model_id": "87e3c82bc5e74f82bf508ce8f936f8bf",
              "version_major": 2,
              "version_minor": 0
            },
            "text/plain": [
              "FileChooser(path='/home/ottor/Documents/COMP6125/src/data/validate', filename='', title='', show_hidden=False,…"
            ]
          },
          "metadata": {},
          "output_type": "display_data"
        }
      ],
      "source": [
        "import tensorflow as tf\n",
        "from ipyfilechooser import FileChooser\n",
        "from IPython.display import display, HTML\n",
        "\n",
        "# Function to handle file selection\n",
        "\n",
        "sel_file=None\n",
        "image_=None\n",
        "\n",
        "def handle_selection(change):\n",
        "    global sel_file\n",
        "    global image_\n",
        "    selected_file = file_chooser.selected\n",
        "    if selected_file:\n",
        "        image_=selected_file\n",
        "        \n",
        "    else:\n",
        "        display(HTML(\"No file selected.\"))\n",
        "\n",
        "# Create a FileChooser widget with filters for image files\n",
        "file_chooser = FileChooser('./data/validate/', use_dir_icons=True, filter_pattern=['*.jpg', '*.jpeg', '*.png'],multiple=False)\n",
        "\n",
        "# Set up an observer for the selection event\n",
        "file_chooser.register_callback(handle_selection)\n",
        "\n",
        "# Display the FileChooser widget\n",
        "display(file_chooser)\n"
      ]
    },
    {
      "cell_type": "code",
      "execution_count": 44,
      "metadata": {
        "id": "26g_txODs1Jv"
      },
      "outputs": [],
      "source": [
        "### Load Pre-Compiled Models\n",
        "\n",
        "model1 = tf.keras.models.load_model('./models/model_fine_tuned_mostly_inside_data.h5')\n",
        "model2 = tf.keras.models.load_model('./models/model_fine_tune_batch_32_150.h5')\n",
        "model3 = tf.keras.models.load_model('./models/model_fine_tune_batch_32_250.h5')"
      ]
    },
    {
      "cell_type": "code",
      "execution_count": 36,
      "metadata": {},
      "outputs": [
        {
          "data": {
            "application/vnd.jupyter.widget-view+json": {
              "model_id": "62e6ecf2070a4b379ed27cea1314d307",
              "version_major": 2,
              "version_minor": 0
            },
            "text/plain": [
              "Button(description='Predict', style=ButtonStyle())"
            ]
          },
          "metadata": {},
          "output_type": "display_data"
        },
        {
          "data": {
            "application/vnd.jupyter.widget-view+json": {
              "model_id": "390e93196f8e405faeb481ba410bec97",
              "version_major": 2,
              "version_minor": 0
            },
            "text/plain": [
              "Output()"
            ]
          },
          "metadata": {},
          "output_type": "display_data"
        },
        {
          "data": {
            "application/vnd.jupyter.widget-view+json": {
              "model_id": "0e1908c937234266a84e9a55803cdf4e",
              "version_major": 2,
              "version_minor": 0
            },
            "text/plain": [
              "Output(layout=Layout(height='300px', width='600px'))"
            ]
          },
          "metadata": {},
          "output_type": "display_data"
        }
      ],
      "source": [
        "### Generate the UI\n",
        "\n",
        "import ipywidgets as widgets\n",
        "from IPython.display import display, Image, Markdown\n",
        "import numpy as np\n",
        "from tensorflow.keras.preprocessing.image import img_to_array, load_img\n",
        "\n",
        "\n",
        "# Output widget for displaying the image\n",
        "run_button1 = widgets.Button(description=\"Predict\")\n",
        "\n",
        "output = widgets.Output()\n",
        "output.layout.width = '300px'\n",
        "output.layout.height = '600px'\n",
        "\n",
        "text_output = widgets.Output()\n",
        "\n",
        "def run_code_block1(_):\n",
        "    output.clear_output(wait=True)\n",
        "    text_output.clear_output(wait=True)\n",
        "\n",
        "    global image_\n",
        "\n",
        "    img1 = load_img(image_, target_size=(150, 150))\n",
        "    img2 = load_img(image_, target_size=(150, 150))\n",
        "    img3 = load_img(image_, target_size=(250, 250))\n",
        "\n",
        "    x1 = img_to_array(img1)\n",
        "    x2 = img_to_array(img2)\n",
        "    x3 = img_to_array(img3)\n",
        "\n",
        "\n",
        "    rescaled_image1 = x1 / 255.0\n",
        "    rescaled_image2 = x2 / 255.0\n",
        "    rescaled_image3 = x3 / 255.0\n",
        "\n",
        "    x_1 = np.reshape(rescaled_image1, [1, 150, 150, 3])\n",
        "    x_2 = np.reshape(rescaled_image2, [1, 150, 150, 3])\n",
        "    x_3 = np.reshape(rescaled_image3, [1, 250, 250, 3])\n",
        "\n",
        "    \n",
        "    with output:\n",
        "        display(Image(filename=image_))#, format='jpg'))\n",
        "\n",
        "    prediction_val=(model1.predict(x_1)[0][0]+model2.predict(x_2)[0][0]+model3.predict(x_3)[0][0])/3\n",
        "    with text_output:\n",
        "        if prediction_val>=0.5:\n",
        "            text = \"This is a OLD $JMD100:  \" +\"Prediction Value:   \" +str(prediction_val)\n",
        "        else:\n",
        "            text= \"This is a NEW $JMD100:  \" +\"Prediction Value:   \" +str(prediction_val)\n",
        "        display(Markdown(text))    \n",
        "\n",
        "run_button1.on_click(run_code_block1)\n",
        "display(run_button1,text_output,output)"
      ]
    }
  ],
  "metadata": {
    "accelerator": "GPU",
    "colab": {
      "provenance": []
    },
    "kernelspec": {
      "display_name": "Python 3",
      "name": "python3"
    },
    "language_info": {
      "codemirror_mode": {
        "name": "ipython",
        "version": 3
      },
      "file_extension": ".py",
      "mimetype": "text/x-python",
      "name": "python",
      "nbconvert_exporter": "python",
      "pygments_lexer": "ipython3",
      "version": "3.11.6"
    }
  },
  "nbformat": 4,
  "nbformat_minor": 0
}
